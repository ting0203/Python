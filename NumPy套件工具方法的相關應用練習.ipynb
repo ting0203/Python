{
 "cells": [
  {
   "cell_type": "markdown",
   "metadata": {},
   "source": [
    "#### Name: 吳宜庭\n",
    "#### Class: 資管系三年級\n",
    "#### SID: s05490055\n",
    "#### Program Name: hw1_ s05490055.ipynb\n",
    "#### Function: 本次作業包含三個大題，有關陣列使用、亂數與一些統計公式\n",
    "#### Homework: No.1\n",
    "#### Limitations: (1). 限用 NumPy 指令語法\n",
    "#### Date: 2019/04/18"
   ]
  },
  {
   "cell_type": "markdown",
   "metadata": {},
   "source": [
    "### P1-1 以 NumPy 內建工具來產生 60 個介於 -50 到 +99 之間的亂數整數，每一個整數大小為 64 位元。將這 60 個整數任意放入一個 6X10 的陣列中，以每一列(row)為單位，”分別”計算並輸出以下需求(數值需四捨五入制小數點後兩位數)："
   ]
  },
  {
   "cell_type": "code",
   "execution_count": 1,
   "metadata": {
    "scrolled": true
   },
   "outputs": [],
   "source": [
    "import numpy as np\n",
    "randarr = np.random.randint(-50,100,[6,10],dtype='i8')\n",
    "#print(randarr)"
   ]
  },
  {
   "cell_type": "markdown",
   "metadata": {},
   "source": [
    "#### a、 資料集的型態"
   ]
  },
  {
   "cell_type": "code",
   "execution_count": 2,
   "metadata": {},
   "outputs": [
    {
     "name": "stdout",
     "output_type": "stream",
     "text": [
      "a、資料集的型態 = int64 \n",
      "\n"
     ]
    }
   ],
   "source": [
    "print(\"a、資料集的型態 =\", randarr.dtype, \"\\n\")"
   ]
  },
  {
   "cell_type": "markdown",
   "metadata": {},
   "source": [
    "#### b、 平均數"
   ]
  },
  {
   "cell_type": "code",
   "execution_count": 3,
   "metadata": {},
   "outputs": [
    {
     "name": "stdout",
     "output_type": "stream",
     "text": [
      "b、平均數 = [ 9.   22.67 29.17 37.5  49.5  18.    2.33 23.   35.5  23.  ] \n",
      "\n"
     ]
    }
   ],
   "source": [
    "#np.around(decimal=2)將元素取至小數點第二位四捨五入、axis=0以列為單位計算\n",
    "rmean = np.around(np.mean(randarr, axis=0), decimals=2)\n",
    "print(\"b、平均數 =\", rmean, \"\\n\")"
   ]
  },
  {
   "cell_type": "markdown",
   "metadata": {},
   "source": [
    "#### c、 中位數"
   ]
  },
  {
   "cell_type": "code",
   "execution_count": 4,
   "metadata": {},
   "outputs": [
    {
     "name": "stdout",
     "output_type": "stream",
     "text": [
      "c、中位數 = [ 2.5 31.  25.5 47.  62.   7.5 -1.5 29.  47.5 22. ] \n",
      "\n"
     ]
    }
   ],
   "source": [
    "rmedian = np.around(np.median(randarr, axis=0), decimals=2)\n",
    "print(\"c、中位數 =\", rmedian, \"\\n\")"
   ]
  },
  {
   "cell_type": "markdown",
   "metadata": {},
   "source": [
    "#### d、 標準差"
   ]
  },
  {
   "cell_type": "code",
   "execution_count": 5,
   "metadata": {},
   "outputs": [
    {
     "name": "stdout",
     "output_type": "stream",
     "text": [
      "d、標準差 = [45.52 24.37 51.84 51.21 36.45 20.48 35.3  40.9  39.54 51.89] \n",
      "\n"
     ]
    }
   ],
   "source": [
    "rstd = np.around(np.std(randarr, axis=0), decimals=2)\n",
    "print(\"d、標準差 =\", rstd, \"\\n\")"
   ]
  },
  {
   "cell_type": "markdown",
   "metadata": {},
   "source": [
    "#### e、變異數"
   ]
  },
  {
   "cell_type": "code",
   "execution_count": 6,
   "metadata": {},
   "outputs": [
    {
     "name": "stdout",
     "output_type": "stream",
     "text": [
      "e、變異數 = [2072.33  593.89 2687.14 2622.58 1328.58  419.33 1246.22 1673.   1563.58\n",
      " 2693.  ] \n",
      "\n"
     ]
    }
   ],
   "source": [
    "rvar = np.around(np.var(randarr, axis=0), decimals=2)\n",
    "print(\"e、變異數 =\", rvar, \"\\n\")"
   ]
  },
  {
   "cell_type": "markdown",
   "metadata": {},
   "source": [
    "#### f、 集差值 ( 請參考如何使用 numpy.ptp())，本題要的是特定一列極差值。 "
   ]
  },
  {
   "cell_type": "code",
   "execution_count": 7,
   "metadata": {},
   "outputs": [
    {
     "name": "stdout",
     "output_type": "stream",
     "text": [
      "f、特定列集差值 = 72 \n",
      "\n"
     ]
    }
   ],
   "source": [
    "#取出每一列的集差值後再取某特定列\n",
    "rptp = np.around(np.ptp(randarr, axis=0), decimals=2)\n",
    "#print(\"f、集差值 =\", rptp)\n",
    "print(\"f、特定列集差值 =\", rptp[1], \"\\n\") #取第二列極差值"
   ]
  },
  {
   "cell_type": "markdown",
   "metadata": {},
   "source": [
    "### P1-2 以 NumPy 內建工具來產生一個 3X4 的陣列 A，以及一個 4X5 的陣列 B，每一個陣列的元素為介於 1 到 50 之間的亂數整數，每一個整數大小為 32 位元。請完成以下的需求："
   ]
  },
  {
   "cell_type": "markdown",
   "metadata": {},
   "source": [
    "#### a、 顯示陣列 A和陣列 B"
   ]
  },
  {
   "cell_type": "code",
   "execution_count": 8,
   "metadata": {},
   "outputs": [
    {
     "name": "stdout",
     "output_type": "stream",
     "text": [
      "a、顯示陣列 A和陣列 B\n",
      "A =>\n",
      " [[39 28 37 14]\n",
      " [30 10 41 22]\n",
      " [10 20  5 28]] \n",
      "\n",
      "B =>\n",
      " [[42 31 44 36 22]\n",
      " [18  1  5  3 11]\n",
      " [ 2 23 34  1 42]\n",
      " [38 49 16 32 46]] \n",
      "\n"
     ]
    }
   ],
   "source": [
    "print(\"a、顯示陣列 A和陣列 B\")\n",
    "A3x4 = np.random.randint(1,51,[3,4], dtype = 'i4')\n",
    "print(\"A =>\\n\",A3x4, \"\\n\")\n",
    "B4x5 = np.random.randint(1,51,[4,5], dtype = 'i4')\n",
    "print(\"B =>\\n\",B4x5, \"\\n\")"
   ]
  },
  {
   "cell_type": "markdown",
   "metadata": {},
   "source": [
    "#### b、 找出陣列 A中每一列 的最大值。"
   ]
  },
  {
   "cell_type": "code",
   "execution_count": 9,
   "metadata": {},
   "outputs": [
    {
     "name": "stdout",
     "output_type": "stream",
     "text": [
      "b、陣列 A 中每一列最大值 = [39 28 41 28] \n",
      "\n"
     ]
    }
   ],
   "source": [
    "Amax = np.around(np.max(A3x4,axis=0))\n",
    "print(\"b、陣列 A 中每一列最大值 =\",Amax, \"\\n\")"
   ]
  },
  {
   "cell_type": "markdown",
   "metadata": {},
   "source": [
    "#### c、 找出陣列 A第二列 中所有小於 30 的數值 。"
   ]
  },
  {
   "cell_type": "code",
   "execution_count": 10,
   "metadata": {},
   "outputs": [
    {
     "name": "stdout",
     "output_type": "stream",
     "text": [
      "c、陣列 A 第二列中所有小於 30 = [10, 22] \n",
      "\n"
     ]
    }
   ],
   "source": [
    "#先找出第二列中所以小於30的數值的索引值放入arrA，再利用for迴圈方式去將值append進ARR裡\n",
    "arrA = np.where(A3x4[1]<30)\n",
    "ARR=[]\n",
    "for ele in arrA[0]:\n",
    "    ARR.append(A3x4[1][ele])\n",
    "print(\"c、陣列 A 第二列中所有小於 30 =\",ARR, \"\\n\")"
   ]
  },
  {
   "cell_type": "markdown",
   "metadata": {},
   "source": [
    "#### d、 找出陣列 B中每一行 或欄 的最大值。"
   ]
  },
  {
   "cell_type": "code",
   "execution_count": 11,
   "metadata": {},
   "outputs": [
    {
     "name": "stdout",
     "output_type": "stream",
     "text": [
      "d、陣列 B 中每一行或欄最大值 = [44 18 42 49] \n",
      "\n"
     ]
    }
   ],
   "source": [
    "Bcolumnmax = np.around(np.max(B4x5,axis=1))\n",
    "print(\"d、陣列 B 中每一行或欄最大值 =\",Bcolumnmax, \"\\n\")"
   ]
  },
  {
   "cell_type": "markdown",
   "metadata": {},
   "source": [
    "#### e、 找出陣列 B第二行 中所有小於 30 的數值。"
   ]
  },
  {
   "cell_type": "code",
   "execution_count": 12,
   "metadata": {},
   "outputs": [
    {
     "name": "stdout",
     "output_type": "stream",
     "text": [
      "e、陣列 B 第二行中所有小於 30 = [18, 1, 5, 3, 11] \n",
      "\n"
     ]
    }
   ],
   "source": [
    "arrB = np.where(B4x5[:][1]<30)\n",
    "BRR=[]\n",
    "for ele in arrB[0]:\n",
    "    BRR.append(B4x5[1][ele])\n",
    "print(\"e、陣列 B 第二行中所有小於 30 =\",BRR, \"\\n\")"
   ]
  },
  {
   "cell_type": "markdown",
   "metadata": {},
   "source": [
    "#### f、 顯示陣列 A中第一列 和陣列 B中第一列 的聯集結果。"
   ]
  },
  {
   "cell_type": "code",
   "execution_count": 13,
   "metadata": {},
   "outputs": [
    {
     "name": "stdout",
     "output_type": "stream",
     "text": [
      "f、陣列 A 第一列與陣列 B 第一列 聯集結果 = [14 22 28 31 36 37 39 42 44] \n",
      "\n"
     ]
    }
   ],
   "source": [
    "print(\"f、陣列 A 第一列與陣列 B 第一列 聯集結果 =\",np.union1d(A3x4[0],B4x5[0]), \"\\n\")"
   ]
  },
  {
   "cell_type": "markdown",
   "metadata": {},
   "source": [
    "#### g、 計算與輸出陣列 A 與陣列 B 相乘的結果。"
   ]
  },
  {
   "cell_type": "code",
   "execution_count": 14,
   "metadata": {},
   "outputs": [
    {
     "name": "stdout",
     "output_type": "stream",
     "text": [
      "g、陣列 A與陣列 B 相乘 =>\n",
      " [[2748 2774 3338 1973 3364]\n",
      " [2358 2961 3116 1855 3504]\n",
      " [1854 1817 1158 1321 1938]] \n",
      "\n"
     ]
    }
   ],
   "source": [
    "print(\"g、陣列 A與陣列 B 相乘 =>\\n\",np.dot(A3x4,B4x5), \"\\n\")"
   ]
  },
  {
   "cell_type": "markdown",
   "metadata": {},
   "source": [
    "#### h、 將兩個陣列扁平化後，輸出陣列 A 交集 陣列 B 的集合運算結果。"
   ]
  },
  {
   "cell_type": "code",
   "execution_count": 15,
   "metadata": {},
   "outputs": [
    {
     "name": "stdout",
     "output_type": "stream",
     "text": [
      "h、陣列 A 交集 陣列 B = [ 5 22] \n",
      "\n"
     ]
    }
   ],
   "source": [
    "print(\"h、陣列 A 交集 陣列 B =\",np.intersect1d(A3x4.flatten(),B4x5.flatten()), \"\\n\")"
   ]
  },
  {
   "cell_type": "markdown",
   "metadata": {},
   "source": [
    "#### i、 同上一題，輸出陣列 A 差集 陣列 B 的集合運算結果。"
   ]
  },
  {
   "cell_type": "code",
   "execution_count": 16,
   "metadata": {},
   "outputs": [
    {
     "name": "stdout",
     "output_type": "stream",
     "text": [
      "i、陣列 A 差集 陣列 B = [10 14 20 28 30 37 39 41] \n",
      "\n"
     ]
    }
   ],
   "source": [
    "print(\"i、陣列 A 差集 陣列 B =\",np.setdiff1d(A3x4.flatten(),B4x5.flatten()), \"\\n\")"
   ]
  },
  {
   "cell_type": "markdown",
   "metadata": {},
   "source": [
    "### P1-3 以 NumPy 內建工具來產生一個 5X5 的陣列 A，以及一個 5X5 的陣列 B，其中陣列 A 的元素為介於 1 到 50 之間由小到大的奇數，而陣列 B 的元素為介於 1 到 50 之間由小到大的偶數，每一個整數元素的大小為 32 位元。請完成以下的需求："
   ]
  },
  {
   "cell_type": "markdown",
   "metadata": {},
   "source": [
    "#### a、 顯示陣列 A 和陣列 B"
   ]
  },
  {
   "cell_type": "code",
   "execution_count": 17,
   "metadata": {},
   "outputs": [
    {
     "name": "stdout",
     "output_type": "stream",
     "text": [
      "a、 顯示陣列 A 和陣列 B\n",
      "A =>\n",
      " [[ 2  4  6  8 10]\n",
      " [12 14 16 18 20]\n",
      " [22 24 26 28 30]\n",
      " [32 34 36 38 40]\n",
      " [42 44 46 48 50]] \n",
      "\n",
      "B =>\n",
      " [[ 1  3  5  7  9]\n",
      " [11 13 15 17 19]\n",
      " [21 23 25 27 29]\n",
      " [31 33 35 37 39]\n",
      " [41 43 45 47 49]] \n",
      "\n"
     ]
    }
   ],
   "source": [
    "print(\"a、 顯示陣列 A 和陣列 B\")\n",
    "#先各做一個全是偶數與全是奇數的陣列，在轉換成5x5的矩陣\n",
    "even_A  = np.reshape(np.arange(2, 51, 2, dtype = 'i4'),(5,5))\n",
    "odd_B = np.reshape(np.arange(1, 51, 2, dtype = 'i4'),(5,5))\n",
    "A = np.copy(even_A)\n",
    "B = np.copy(odd_B)\n",
    "print(\"A =>\\n\",even_A, \"\\n\")\n",
    "print(\"B =>\\n\",odd_B, \"\\n\")"
   ]
  },
  {
   "cell_type": "markdown",
   "metadata": {},
   "source": [
    "#### b、 將陣列 A 與陣列 B 作垂直堆疊並顯示結果。"
   ]
  },
  {
   "cell_type": "code",
   "execution_count": 18,
   "metadata": {},
   "outputs": [
    {
     "name": "stdout",
     "output_type": "stream",
     "text": [
      "b、陣列 A 與陣列 B 垂直堆疊 =\n",
      " [[ 2  4  6  8 10]\n",
      " [12 14 16 18 20]\n",
      " [22 24 26 28 30]\n",
      " [32 34 36 38 40]\n",
      " [42 44 46 48 50]\n",
      " [ 1  3  5  7  9]\n",
      " [11 13 15 17 19]\n",
      " [21 23 25 27 29]\n",
      " [31 33 35 37 39]\n",
      " [41 43 45 47 49]] \n",
      "\n"
     ]
    }
   ],
   "source": [
    "print(\"b、陣列 A 與陣列 B 垂直堆疊 =\\n\",np.vstack([A,B]), \"\\n\")"
   ]
  },
  {
   "cell_type": "markdown",
   "metadata": {},
   "source": [
    "#### c、 將陣列 A 與陣列 B 作水平堆疊並顯示結果。"
   ]
  },
  {
   "cell_type": "code",
   "execution_count": 19,
   "metadata": {},
   "outputs": [
    {
     "name": "stdout",
     "output_type": "stream",
     "text": [
      "c、將陣列 A 與陣列 B 水平堆疊 =\n",
      " [[ 2  4  6  8 10  1  3  5  7  9]\n",
      " [12 14 16 18 20 11 13 15 17 19]\n",
      " [22 24 26 28 30 21 23 25 27 29]\n",
      " [32 34 36 38 40 31 33 35 37 39]\n",
      " [42 44 46 48 50 41 43 45 47 49]] \n",
      "\n"
     ]
    }
   ],
   "source": [
    "print(\"c、將陣列 A 與陣列 B 水平堆疊 =\\n\",np.hstack([A,B]), \"\\n\")"
   ]
  },
  {
   "cell_type": "markdown",
   "metadata": {},
   "source": [
    "#### d、 陣列 A 和陣列 B 中的奇數列進行交換，並顯示交換後兩個陣列的內容。"
   ]
  },
  {
   "cell_type": "code",
   "execution_count": 20,
   "metadata": {},
   "outputs": [
    {
     "name": "stdout",
     "output_type": "stream",
     "text": [
      "d、陣列A與陣列B 中的奇數列交換後\n",
      "A =>\n",
      " [[ 1  4  5  8  9]\n",
      " [11 14 15 18 19]\n",
      " [21 24 25 28 29]\n",
      " [31 34 35 38 39]\n",
      " [41 44 45 48 49]] \n",
      "\n",
      "B =>\n",
      " [[ 2  3  6  7 10]\n",
      " [12 13 16 17 20]\n",
      " [22 23 26 27 30]\n",
      " [32 33 36 37 40]\n",
      " [42 43 46 47 50]]\n"
     ]
    }
   ],
   "source": [
    "A[:, ::2] = odd_B[:, ::2]\n",
    "B[:,::2] = even_A[:,::2]\n",
    "print(\"d、陣列A與陣列B 中的奇數列交換後\")\n",
    "print(\"A =>\\n\",A, \"\\n\")\n",
    "print(\"B =>\\n\",B)"
   ]
  },
  {
   "cell_type": "code",
   "execution_count": null,
   "metadata": {},
   "outputs": [],
   "source": []
  }
 ],
 "metadata": {
  "kernelspec": {
   "display_name": "Python 3",
   "language": "python",
   "name": "python3"
  },
  "language_info": {
   "codemirror_mode": {
    "name": "ipython",
    "version": 3
   },
   "file_extension": ".py",
   "mimetype": "text/x-python",
   "name": "python",
   "nbconvert_exporter": "python",
   "pygments_lexer": "ipython3",
   "version": "3.7.1"
  }
 },
 "nbformat": 4,
 "nbformat_minor": 2
}
