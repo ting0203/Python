{
 "cells": [
  {
   "cell_type": "markdown",
   "metadata": {},
   "source": [
    "#### Name: 吳宜庭\n",
    "#### Class: 資管系三年級\n",
    "#### SID: s05490055\n",
    "#### Program Name: hw2_ s05490055.ipynb\n",
    "#### Function: 1. 將data.csv檔案讀入資料並輸出資料。2. 將特定資料轉換成DataFrame 的結構，並輸出所需資料。3. 利用matplotlib繪製pie圖。\n",
    "#### Homework: No.2\n",
    "#### Limitations: (1). 使用 Pandas, NumPy, Matplotlib\n",
    "#### Date: 2019/05/09"
   ]
  },
  {
   "cell_type": "markdown",
   "metadata": {},
   "source": [
    "### P2-1 請利用Pandas套件讀取data1.csv並轉換成DataFrame型態，再完成以下要求："
   ]
  },
  {
   "cell_type": "code",
   "execution_count": 1,
   "metadata": {},
   "outputs": [],
   "source": [
    "import pandas as pd"
   ]
  },
  {
   "cell_type": "markdown",
   "metadata": {},
   "source": [
    "##### a、改變索引為從1開始並顯示結果"
   ]
  },
  {
   "cell_type": "code",
   "execution_count": 2,
   "metadata": {
    "scrolled": true
   },
   "outputs": [
    {
     "name": "stdout",
     "output_type": "stream",
     "text": [
      "  商品名稱       進貨日期  數量  單位\n",
      "1   鹽巴   2019/5/2  15  公升\n",
      "2   白醋   2019/5/2  10  公升\n",
      "3   醬油   2019/5/9  15  公升\n",
      "4  胡椒粉  2019/5/10  12   包\n",
      "5  辣椒粉  2019/4/30   8   包\n"
     ]
    }
   ],
   "source": [
    "#讀取data1的檔案，將索引值從1開始，再印出資料\n",
    "\n",
    "data1df = pd.read_csv(\"data1.csv\")\n",
    "data1df.index += 1\n",
    "print(data1df)"
   ]
  },
  {
   "cell_type": "markdown",
   "metadata": {},
   "source": [
    "##### b、顯示前兩筆資料"
   ]
  },
  {
   "cell_type": "code",
   "execution_count": 3,
   "metadata": {},
   "outputs": [
    {
     "name": "stdout",
     "output_type": "stream",
     "text": [
      "前兩筆紀錄：\n"
     ]
    },
    {
     "data": {
      "text/html": [
       "<div>\n",
       "<style scoped>\n",
       "    .dataframe tbody tr th:only-of-type {\n",
       "        vertical-align: middle;\n",
       "    }\n",
       "\n",
       "    .dataframe tbody tr th {\n",
       "        vertical-align: top;\n",
       "    }\n",
       "\n",
       "    .dataframe thead th {\n",
       "        text-align: right;\n",
       "    }\n",
       "</style>\n",
       "<table border=\"1\" class=\"dataframe\">\n",
       "  <thead>\n",
       "    <tr style=\"text-align: right;\">\n",
       "      <th></th>\n",
       "      <th>商品名稱</th>\n",
       "      <th>進貨日期</th>\n",
       "      <th>數量</th>\n",
       "      <th>單位</th>\n",
       "    </tr>\n",
       "  </thead>\n",
       "  <tbody>\n",
       "    <tr>\n",
       "      <th>1</th>\n",
       "      <td>鹽巴</td>\n",
       "      <td>2019/5/2</td>\n",
       "      <td>15</td>\n",
       "      <td>公升</td>\n",
       "    </tr>\n",
       "    <tr>\n",
       "      <th>2</th>\n",
       "      <td>白醋</td>\n",
       "      <td>2019/5/2</td>\n",
       "      <td>10</td>\n",
       "      <td>公升</td>\n",
       "    </tr>\n",
       "  </tbody>\n",
       "</table>\n",
       "</div>"
      ],
      "text/plain": [
       "  商品名稱      進貨日期  數量  單位\n",
       "1   鹽巴  2019/5/2  15  公升\n",
       "2   白醋  2019/5/2  10  公升"
      ]
     },
     "execution_count": 3,
     "metadata": {},
     "output_type": "execute_result"
    }
   ],
   "source": [
    "print(\"前兩筆紀錄：\")\n",
    "data1df.head(2)"
   ]
  },
  {
   "cell_type": "markdown",
   "metadata": {},
   "source": [
    "##### c、輸出〝白醋〞的進貨紀錄"
   ]
  },
  {
   "cell_type": "code",
   "execution_count": 4,
   "metadata": {},
   "outputs": [
    {
     "name": "stdout",
     "output_type": "stream",
     "text": [
      "\"白醋\"的進貨紀錄：\n",
      "  商品名稱      進貨日期  數量  單位\n",
      "2   白醋  2019/5/2  10  公升 \n",
      "\n"
     ]
    }
   ],
   "source": [
    "#找出商品名稱中的\"白醋\"並將資料印出\n",
    "\n",
    "print('\"白醋\"的進貨紀錄：')\n",
    "print(data1df[data1df[\"商品名稱\"].str.startswith(\"白醋\")], '\\n')\n",
    "#print(data1df[data1df[\"商品名稱\"] == '白醋'])"
   ]
  },
  {
   "cell_type": "markdown",
   "metadata": {},
   "source": [
    "##### d、計算各單位商品數量並輸出"
   ]
  },
  {
   "cell_type": "code",
   "execution_count": 5,
   "metadata": {},
   "outputs": [
    {
     "name": "stdout",
     "output_type": "stream",
     "text": [
      "各單位商品數量：\n",
      "單位\n",
      "公升    3\n",
      "包     2\n",
      "Name: 商品名稱, dtype: int64\n"
     ]
    }
   ],
   "source": [
    "#先將資料作複製的動作，以免動到原本資料，之後再將商品名稱那欄的資料改成單位那欄的資料，再統計其列相同值的個數\n",
    "\n",
    "print(\"各單位商品數量：\\n單位\")\n",
    "df1 = data1df.copy()\n",
    "df1.商品名稱 = df1.單位\n",
    "print(pd.value_counts(df1.商品名稱))"
   ]
  },
  {
   "cell_type": "markdown",
   "metadata": {},
   "source": [
    "##### e、根據進貨日期從小到大排序並輸出結果"
   ]
  },
  {
   "cell_type": "code",
   "execution_count": 6,
   "metadata": {},
   "outputs": [
    {
     "name": "stdout",
     "output_type": "stream",
     "text": [
      "根據進貨日期由小到大排序：\n",
      "  商品名稱       進貨日期  數量  單位\n",
      "5  辣椒粉 2019-04-30   8   包\n",
      "1   鹽巴 2019-05-02  15  公升\n",
      "2   白醋 2019-05-02  10  公升\n",
      "3   醬油 2019-05-09  15  公升\n",
      "4  胡椒粉 2019-05-10  12   包\n"
     ]
    }
   ],
   "source": [
    "#將進貨日期改成python可做排序的日期格式，再做日期的排序，再印出資料\n",
    "\n",
    "data1df['進貨日期'] =pd.to_datetime(data1df.進貨日期)\n",
    "data1df.sort_values(by=['進貨日期'], inplace = True)\n",
    "print(\"根據進貨日期由小到大排序：\")\n",
    "print(data1df)"
   ]
  },
  {
   "cell_type": "markdown",
   "metadata": {},
   "source": [
    "### P2-2 建立一個學生資料名單如下，並請完成以下的需求：\n",
    "Name = ['張甲', '王大同', '倪再興', '余筱雯', '李琳一', '邊方']\n",
    "Scores = [65, 98, 82, 77, 61, 92]"
   ]
  },
  {
   "cell_type": "markdown",
   "metadata": {},
   "source": [
    "##### a、 請將學生資料轉成 DataFrame 的結構，改變索引為從 1 開始並列出原始資料"
   ]
  },
  {
   "cell_type": "code",
   "execution_count": 7,
   "metadata": {},
   "outputs": [
    {
     "name": "stdout",
     "output_type": "stream",
     "text": [
      "原始資料：\n",
      "  Name  Scores\n",
      "1   張甲      65\n",
      "2  王大同      98\n",
      "3  倪再興      82\n",
      "4  余筱雯      77\n",
      "5  李琳一      61\n",
      "6   邊方      92\n"
     ]
    }
   ],
   "source": [
    "#建立一個學生的dataframe，並將索引值從一開始\n",
    "\n",
    "stu = {\"Name\": ['張甲', '王大同', '倪再興', '余筱雯', '李琳一', '邊方'],\n",
    "         \n",
    "         \"Scores\": [65, 98, 82, 77, 61,92]}\n",
    "\n",
    "studf = pd.DataFrame(stu) \n",
    "studf.index += 1\n",
    "print(\"原始資料：\")\n",
    "print(studf)"
   ]
  },
  {
   "cell_type": "markdown",
   "metadata": {},
   "source": [
    "##### b、 請列出資料根據名字從小到大排序，但資料的索引值無須變更重設"
   ]
  },
  {
   "cell_type": "code",
   "execution_count": 8,
   "metadata": {
    "scrolled": true
   },
   "outputs": [
    {
     "name": "stdout",
     "output_type": "stream",
     "text": [
      "將資料根據名字由小到大排序：\n",
      "  Name  Scores\n",
      "4  余筱雯      77\n",
      "3  倪再興      82\n",
      "1   張甲      65\n",
      "5  李琳一      61\n",
      "2  王大同      98\n",
      "6   邊方      92\n"
     ]
    }
   ],
   "source": [
    "#以\"Name\"那欄做排序\n",
    "\n",
    "studf1 = studf.sort_values([\"Name\"])\n",
    "print(\"將資料根據名字由小到大排序：\")\n",
    "print(studf1)"
   ]
  },
  {
   "cell_type": "markdown",
   "metadata": {},
   "source": [
    "##### c、 請列出資料根據分數從大到小排序，但資料的索引值無需變更重設"
   ]
  },
  {
   "cell_type": "code",
   "execution_count": 9,
   "metadata": {},
   "outputs": [
    {
     "name": "stdout",
     "output_type": "stream",
     "text": [
      "將資料根據分數由小到大排序：\n",
      "  Name  Scores\n",
      "2  王大同      98\n",
      "6   邊方      92\n",
      "3  倪再興      82\n",
      "4  余筱雯      77\n",
      "1   張甲      65\n",
      "5  李琳一      61\n"
     ]
    }
   ],
   "source": [
    "#以\"Scores\"那欄做排序\n",
    "\n",
    "studf2 = studf.sort_values([\"Scores\"], ascending = False)\n",
    "print(\"將資料根據分數由小到大排序：\")\n",
    "print(studf2)"
   ]
  },
  {
   "cell_type": "markdown",
   "metadata": {},
   "source": [
    "##### d、 請列出分數高於 80 分的學生"
   ]
  },
  {
   "cell_type": "code",
   "execution_count": 10,
   "metadata": {},
   "outputs": [
    {
     "name": "stdout",
     "output_type": "stream",
     "text": [
      "列出分數高於 80 分的學生：\n",
      "  Name  Scores\n",
      "2  王大同      98\n",
      "6   邊方      92\n",
      "3  倪再興      82 \n",
      "\n"
     ]
    }
   ],
   "source": [
    "#將分數高於80的學生篩選出來後，資料為NaN的資料不做顯示\n",
    "\n",
    "studf2 = studf2[studf2.Scores > 80]\n",
    "print(\"列出分數高於 80 分的學生：\")\n",
    "print(studf2.dropna(), '\\n')  #找出所有大於80的資料"
   ]
  },
  {
   "cell_type": "markdown",
   "metadata": {},
   "source": [
    "### P2-3 兩家公司的五個部門(人事部門、會計部門、設計部門、行銷部門、採購部門)員工數量分別為 8、5、10、12、5，以及 10、8、20、18、12。請繪出兩個圓形圖描述上述資料，圖表設定樣式需求如下："
   ]
  },
  {
   "cell_type": "markdown",
   "metadata": {},
   "source": [
    "##### a、 圖上所有標籤文字一律要使用英文(免得顯示不出來)\n",
    "##### b、 各部門在圖上請以英文名稱來呈現，依序對應為 Personnel Department, Accounting Department, Design Department, Marketing Department, Purchasing Department.\n",
    "##### c、 各部門顏色依序對應為;：violet, yellow, skyblue, lightcoral, lightgreen.\n",
    "##### d、 圖上請突顯”行銷部門”\n",
    "##### e、 數據顯示格式：小數點後一位\n",
    "##### f、 起始角度：90\n",
    "##### g、 圖表形狀：圓形，而非橢圓形\n",
    "##### h、 圖 1 名稱：Company A\n",
    "##### i、 圖 2 名稱：Company B\n",
    "##### j、 圖表名稱字型大小：20"
   ]
  },
  {
   "cell_type": "code",
   "execution_count": 11,
   "metadata": {
    "scrolled": false
   },
   "outputs": [
    {
     "data": {
      "image/png": "[encoded data removed]",
      "text/plain": [
       "<Figure size 432x288 with 1 Axes>"
      ]
     },
     "metadata": {},
     "output_type": "display_data"
    },
    {
     "data": {
      "image/png": "[encoded data removed]",
      "text/plain": [
       "<Figure size 432x288 with 1 Axes>"
      ]
     },
     "metadata": {},
     "output_type": "display_data"
    }
   ],
   "source": [
    "import matplotlib.pyplot as plt\n",
    "\n",
    "%matplotlib inline\n",
    "\n",
    "# Company A 標籤文字\n",
    "labels = [\"Personnel Department\", \"Accounting Department\", \"Design Department\", \"Marketing Department\", \"Purchasing Department\"]\n",
    "\n",
    "ratingsA = [8, 5, 10, 12, 5]   # Company A 員工數量\n",
    "\n",
    "colors = ['violet','yellow','skyblue','lightcoral','lightgreen']   # Company A 各部門顏色\n",
    "\n",
    "explode = (0, 0, 0, 0.2, 0)   # Company A 突顯”行銷部門”，因行銷部門相對應的位置在第4個\n",
    "\n",
    "plt.pie(ratingsA, labels = labels, colors = colors, explode = explode, autopct='%1.1f%%', startangle = 90 )# 繪製派圖\n",
    "\n",
    "plt.title(\"Company A\", fontsize=20)    # 將公司標題字型大小調成 20\n",
    "\n",
    "plt.axis(\"equal\")   #　繪製正圓\n",
    "\n",
    "plt.show()\n",
    "\n",
    "# Company B 標籤文字\n",
    "labels = [\"Personnel Department\", \"Accounting Department\", \"Design Department\", \"Marketing Department\", \"Purchasing Department\"]\n",
    "\n",
    "ratingsB = [10, 8, 20, 18, 12]   # Company B 員工數量\n",
    "\n",
    "colors = ['violet','yellow','skyblue','lightcoral','lightgreen']   # Company B 各部門顏色\n",
    "\n",
    "explode = (0, 0, 0, 0.2, 0)   # Company B 突顯”行銷部門”，因行銷部門相對應的位置在第4個\n",
    "\n",
    "plt.pie(ratingsB, labels = labels, colors = colors, explode = explode, autopct='%1.1f%%', startangle = 90 )# 繪製派圖\n",
    "\n",
    "plt.title(\"Company B\", fontsize=20)   # 將公司標題字型大小調成 20\n",
    "\n",
    "plt.axis(\"equal\")   #　繪製正圓\n",
    "\n",
    "plt.show()"
   ]
  },
  {
   "cell_type": "code",
   "execution_count": null,
   "metadata": {},
   "outputs": [],
   "source": []
  }
 ],
 "metadata": {
  "kernelspec": {
   "display_name": "Python 3",
   "language": "python",
   "name": "python3"
  },
  "language_info": {
   "codemirror_mode": {
    "name": "ipython",
    "version": 3
   },
   "file_extension": ".py",
   "mimetype": "text/x-python",
   "name": "python",
   "nbconvert_exporter": "python",
   "pygments_lexer": "ipython3",
   "version": "3.7.1"
  }
 },
 "nbformat": 4,
 "nbformat_minor": 2
}
